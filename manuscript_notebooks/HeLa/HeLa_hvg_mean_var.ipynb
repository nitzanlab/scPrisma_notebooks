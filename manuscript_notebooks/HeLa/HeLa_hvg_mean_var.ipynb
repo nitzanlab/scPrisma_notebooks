{
 "cells": [
  {
   "cell_type": "code",
   "execution_count": 1,
   "id": "b4fdfbe1",
   "metadata": {},
   "outputs": [
    {
     "name": "stderr",
     "output_type": "stream",
     "text": [
      "/Users/jonathankarin/.conda/envs/spctral_jan/lib/python3.9/site-packages/scanpy/preprocessing/_simple.py:140: ImplicitModificationWarning: Trying to modify attribute `.obs` of view, initializing view as actual.\n",
      "  adata.obs['n_genes'] = number\n"
     ]
    },
    {
     "data": {
      "text/plain": [
       "AnnData object with n_obs × n_vars = 683 × 25797\n",
       "    obs: 'n_genes'"
      ]
     },
     "execution_count": 1,
     "metadata": {},
     "output_type": "execute_result"
    }
   ],
   "source": [
    "#######imports and data read#######\n",
    "import copy\n",
    "import time\n",
    "\n",
    "import matplotlib.pyplot as plt\n",
    "import numpy as np\n",
    "import pandas as pd\n",
    "from sklearn.cluster import KMeans\n",
    "\n",
    "from pre_processing import *\n",
    "from algorithms import *\n",
    "from spectrum_gen import *\n",
    "from data_gen import *\n",
    "from analysis import *\n",
    "from datasets import *\n",
    "from evaluation import *\n",
    "#cr_filtering()\n",
    "#cr_read_norm()1dasdas\n",
    "import h5py\n",
    "import scanpy as sc\n",
    "from sklearn.metrics import adjusted_rand_score\n",
    "gene_list_for_plot = ['CDC20','CDK1','RRM2','PCNA','A1BG']\n",
    "#adata = sc.read_csv('hela/GSM4224316_out_gene_exon_tagged.dge_exonssf002_KO.txt', delimiter='\\t').T\n",
    "adata = sc.read_csv('hela/GSM4224315_out_gene_exon_tagged.dge_exonssf002_WT.txt', delimiter='\\t').T\n",
    "adata = shuffle_adata(adata)\n",
    "\n",
    "#######data cleaning#######\n",
    "#sc.pp.filter_genes(adata, min_cells=10)\n",
    "sc.pp.filter_cells(adata, min_genes=0)\n",
    "i=1\n",
    "while adata.obs['n_genes'].mean() <4500: #remove cells until we reach mean counts of 4,500 as suggested by https://www.embopress.org/doi/full/10.15252/msb.20209946\n",
    "    sc.pp.filter_cells(adata, min_genes=i)\n",
    "    i+=5\n",
    "#sc.pp.filter_cells(adata, min_counts=3000) #4000\n",
    "adata_for_inference = adata.copy()\n",
    "adata"
   ]
  },
  {
   "cell_type": "code",
   "execution_count": 2,
   "id": "1a4d33f2",
   "metadata": {},
   "outputs": [],
   "source": [
    "\n",
    "def get_circular_mean_var(adata):\n",
    "    '''\n",
    "    Plot all the figures that are related to the HeLa cells section\n",
    "    :param adata:  AnnData of HeLa cells\n",
    "    :param title: title for figures\n",
    "    '''\n",
    "    cyclic_by_phase = pd.read_csv(\"data/cyclic_by_phase.csv\")\n",
    "    G1S = score_list_of_genes_single_adata(cyclic_by_phase=cyclic_by_phase, phase=\"G1.S\", adata=adata)\n",
    "    S = score_list_of_genes_single_adata(cyclic_by_phase=cyclic_by_phase, phase=\"S\", adata=adata)\n",
    "    G2 = score_list_of_genes_single_adata(cyclic_by_phase=cyclic_by_phase, phase=\"G2\", adata=adata)\n",
    "    G2M = score_list_of_genes_single_adata(cyclic_by_phase=cyclic_by_phase, phase=\"G2.M\", adata=adata)\n",
    "    MG1 = score_list_of_genes_single_adata(cyclic_by_phase=cyclic_by_phase, phase=\"M.G1\", adata=adata)\n",
    "    G1S= G1S[:,0]\n",
    "    G2= G2[:,0]\n",
    "    S= S[:,0]\n",
    "    MG1= MG1[:,0]\n",
    "    G2M= G2M[:,0]\n",
    "    G1_len = len(savgol_filter((G1S / G1S.max()),7,5))\n",
    "    theta = (np.array(range(G1_len)) * 2 * np.pi) / G1_len\n",
    "\n",
    "    g1s_circular_stats = circular_mean(theta,G1S / np.sum(G1S))\n",
    "    s_circular_stats = circular_mean(theta,S / np.sum(S))\n",
    "    g2_circular_stats = circular_mean(theta,G2 / np.sum(G2))\n",
    "    g2m_circular_stats = circular_mean(theta,G2M / np.sum(G2M))\n",
    "    mg1_circular_stats = circular_mean(theta,MG1 / np.sum(MG1))\n",
    "    return ((g1s_circular_stats[1]+s_circular_stats[1]+g2_circular_stats[1\n",
    "    ] + g2m_circular_stats[1] +mg1_circular_stats[1] )/5), [g1s_circular_stats[0],s_circular_stats[0]\n",
    "                                                            ,g2_circular_stats[0], \n",
    "                                                            g2m_circular_stats[0] , mg1_circular_stats[0]]"
   ]
  },
  {
   "cell_type": "code",
   "execution_count": 3,
   "id": "6a6d52c8",
   "metadata": {},
   "outputs": [],
   "source": [
    "sc.pp.normalize_per_cell(adata, counts_per_cell_after=1e4)\n",
    "sc.pp.log1p(adata)\n",
    "bdata = copy.deepcopy(adata.copy())\n",
    "mean_circuluar = []\n",
    "mean_circuluar_var= []\n",
    "hvg_num = []\n"
   ]
  },
  {
   "cell_type": "code",
   "execution_count": 4,
   "id": "f3577cc2",
   "metadata": {},
   "outputs": [
    {
     "name": "stderr",
     "output_type": "stream",
     "text": [
      "/Users/jonathankarin/.conda/envs/spctral_jan/lib/python3.9/site-packages/scanpy/preprocessing/_deprecated/highly_variable_genes.py:145: RuntimeWarning: invalid value encountered in log\n",
      "  dispersion = np.log(dispersion)\n"
     ]
    },
    {
     "name": "stdout",
     "output_type": "stream",
     "text": [
      "Iteration number: \n",
      "0\n",
      " function value= \n",
      "6.286110598743417e-25\n",
      "Iteration number: \n",
      "25\n",
      " function value= \n",
      "1.2168667196633848e-06\n",
      "Iteration number: \n",
      "50\n",
      " function value= \n",
      "5.538031733319644\n",
      "Iteration number: \n",
      "75\n",
      " function value= \n",
      "5.740701021437108\n"
     ]
    },
    {
     "name": "stderr",
     "output_type": "stream",
     "text": [
      "/Users/jonathankarin/.conda/envs/spctral_jan/lib/python3.9/site-packages/scanpy/preprocessing/_deprecated/highly_variable_genes.py:145: RuntimeWarning: invalid value encountered in log\n",
      "  dispersion = np.log(dispersion)\n"
     ]
    },
    {
     "name": "stdout",
     "output_type": "stream",
     "text": [
      "Iteration number: \n",
      "0\n",
      " function value= \n",
      "1.0902048080649915e-22\n",
      "Iteration number: \n",
      "25\n",
      " function value= \n",
      "1020.2639682164233\n",
      "Iteration number: \n",
      "50\n",
      " function value= \n",
      "1031.0762870305696\n",
      "Iteration number: \n",
      "75\n",
      " function value= \n",
      "1013.8322991259697\n"
     ]
    },
    {
     "name": "stderr",
     "output_type": "stream",
     "text": [
      "/Users/jonathankarin/.conda/envs/spctral_jan/lib/python3.9/site-packages/scanpy/preprocessing/_deprecated/highly_variable_genes.py:145: RuntimeWarning: invalid value encountered in log\n",
      "  dispersion = np.log(dispersion)\n"
     ]
    },
    {
     "name": "stdout",
     "output_type": "stream",
     "text": [
      "Iteration number: \n",
      "0\n",
      " function value= \n",
      "1.1113380985738488e-22\n",
      "Iteration number: \n",
      "25\n",
      " function value= \n",
      "894.8501745952485\n",
      "Iteration number: \n",
      "50\n",
      " function value= \n",
      "927.5127572428174\n",
      "Iteration number: \n",
      "75\n",
      " function value= \n",
      "922.70162207764\n"
     ]
    },
    {
     "name": "stderr",
     "output_type": "stream",
     "text": [
      "/Users/jonathankarin/.conda/envs/spctral_jan/lib/python3.9/site-packages/scanpy/preprocessing/_deprecated/highly_variable_genes.py:145: RuntimeWarning: invalid value encountered in log\n",
      "  dispersion = np.log(dispersion)\n"
     ]
    },
    {
     "name": "stdout",
     "output_type": "stream",
     "text": [
      "Iteration number: \n",
      "0\n",
      " function value= \n",
      "1.090975615014583e-22\n",
      "Iteration number: \n",
      "25\n",
      " function value= \n",
      "688.1557250350079\n",
      "Iteration number: \n",
      "50\n",
      " function value= \n",
      "750.8420036017777\n",
      "Iteration number: \n",
      "75\n",
      " function value= \n",
      "777.2492662087766\n"
     ]
    },
    {
     "name": "stderr",
     "output_type": "stream",
     "text": [
      "/Users/jonathankarin/.conda/envs/spctral_jan/lib/python3.9/site-packages/scanpy/preprocessing/_deprecated/highly_variable_genes.py:145: RuntimeWarning: invalid value encountered in log\n",
      "  dispersion = np.log(dispersion)\n"
     ]
    },
    {
     "name": "stdout",
     "output_type": "stream",
     "text": [
      "Iteration number: \n",
      "0\n",
      " function value= \n",
      "1.1088682063541264e-22\n",
      "Iteration number: \n",
      "25\n",
      " function value= \n",
      "683.8345090361863\n",
      "Iteration number: \n",
      "50\n",
      " function value= \n",
      "715.319280490679\n",
      "Iteration number: \n",
      "75\n",
      " function value= \n",
      "728.1374509567465\n"
     ]
    },
    {
     "name": "stderr",
     "output_type": "stream",
     "text": [
      "/Users/jonathankarin/.conda/envs/spctral_jan/lib/python3.9/site-packages/scanpy/preprocessing/_deprecated/highly_variable_genes.py:145: RuntimeWarning: invalid value encountered in log\n",
      "  dispersion = np.log(dispersion)\n"
     ]
    },
    {
     "name": "stdout",
     "output_type": "stream",
     "text": [
      "Iteration number: \n",
      "0\n",
      " function value= \n",
      "1.1110665029630837e-22\n",
      "Iteration number: \n",
      "25\n",
      " function value= \n",
      "576.481694903392\n",
      "Iteration number: \n",
      "50\n",
      " function value= \n",
      "674.5762642329065\n",
      "Iteration number: \n",
      "75\n",
      " function value= \n",
      "649.3683620868926\n"
     ]
    },
    {
     "name": "stderr",
     "output_type": "stream",
     "text": [
      "/Users/jonathankarin/.conda/envs/spctral_jan/lib/python3.9/site-packages/scanpy/preprocessing/_deprecated/highly_variable_genes.py:145: RuntimeWarning: invalid value encountered in log\n",
      "  dispersion = np.log(dispersion)\n"
     ]
    },
    {
     "name": "stdout",
     "output_type": "stream",
     "text": [
      "Iteration number: \n",
      "0\n",
      " function value= \n",
      "1.11939701778778e-22\n",
      "Iteration number: \n",
      "25\n",
      " function value= \n",
      "532.2279311965805\n",
      "Iteration number: \n",
      "50\n",
      " function value= \n",
      "641.740981134433\n",
      "Iteration number: \n",
      "75\n",
      " function value= \n",
      "655.4205424752568\n"
     ]
    },
    {
     "name": "stderr",
     "output_type": "stream",
     "text": [
      "/Users/jonathankarin/.conda/envs/spctral_jan/lib/python3.9/site-packages/scanpy/preprocessing/_deprecated/highly_variable_genes.py:145: RuntimeWarning: invalid value encountered in log\n",
      "  dispersion = np.log(dispersion)\n"
     ]
    },
    {
     "name": "stdout",
     "output_type": "stream",
     "text": [
      "Iteration number: \n",
      "0\n",
      " function value= \n",
      "1.1398781985391972e-22\n",
      "Iteration number: \n",
      "25\n",
      " function value= \n",
      "444.06367559316845\n",
      "Iteration number: \n",
      "50\n",
      " function value= \n",
      "611.1878326173575\n",
      "Iteration number: \n",
      "75\n",
      " function value= \n",
      "622.5187720547779\n"
     ]
    },
    {
     "name": "stderr",
     "output_type": "stream",
     "text": [
      "/Users/jonathankarin/.conda/envs/spctral_jan/lib/python3.9/site-packages/scanpy/preprocessing/_deprecated/highly_variable_genes.py:145: RuntimeWarning: invalid value encountered in log\n",
      "  dispersion = np.log(dispersion)\n"
     ]
    },
    {
     "name": "stdout",
     "output_type": "stream",
     "text": [
      "Iteration number: \n",
      "0\n",
      " function value= \n",
      "1.1312061572291372e-22\n",
      "Iteration number: \n",
      "25\n",
      " function value= \n",
      "359.3985268996523\n",
      "Iteration number: \n",
      "50\n",
      " function value= \n",
      "555.8742520707433\n",
      "Iteration number: \n",
      "75\n",
      " function value= \n",
      "573.9170683506868\n"
     ]
    },
    {
     "name": "stderr",
     "output_type": "stream",
     "text": [
      "/Users/jonathankarin/.conda/envs/spctral_jan/lib/python3.9/site-packages/scanpy/preprocessing/_deprecated/highly_variable_genes.py:145: RuntimeWarning: invalid value encountered in log\n",
      "  dispersion = np.log(dispersion)\n"
     ]
    },
    {
     "name": "stdout",
     "output_type": "stream",
     "text": [
      "Iteration number: \n",
      "0\n",
      " function value= \n",
      "1.1460796210361518e-22\n",
      "Iteration number: \n",
      "25\n",
      " function value= \n",
      "354.97319930885226\n",
      "Iteration number: \n",
      "50\n",
      " function value= \n",
      "550.9839247031017\n",
      "Iteration number: \n",
      "75\n",
      " function value= \n",
      "561.6277646674366\n"
     ]
    },
    {
     "name": "stderr",
     "output_type": "stream",
     "text": [
      "/Users/jonathankarin/.conda/envs/spctral_jan/lib/python3.9/site-packages/scanpy/preprocessing/_deprecated/highly_variable_genes.py:145: RuntimeWarning: invalid value encountered in log\n",
      "  dispersion = np.log(dispersion)\n"
     ]
    },
    {
     "name": "stdout",
     "output_type": "stream",
     "text": [
      "Iteration number: \n",
      "0\n",
      " function value= \n",
      "1.1713906117992887e-22\n",
      "Iteration number: \n",
      "25\n",
      " function value= \n",
      "360.3849360914139\n",
      "Iteration number: \n",
      "50\n",
      " function value= \n",
      "557.2893126767315\n",
      "Iteration number: \n",
      "75\n",
      " function value= \n",
      "565.1982655512979\n"
     ]
    },
    {
     "name": "stderr",
     "output_type": "stream",
     "text": [
      "/Users/jonathankarin/.conda/envs/spctral_jan/lib/python3.9/site-packages/scanpy/preprocessing/_deprecated/highly_variable_genes.py:145: RuntimeWarning: invalid value encountered in log\n",
      "  dispersion = np.log(dispersion)\n"
     ]
    },
    {
     "name": "stdout",
     "output_type": "stream",
     "text": [
      "Iteration number: \n",
      "0\n",
      " function value= \n",
      "1.173726075178571e-22\n",
      "Iteration number: \n",
      "25\n",
      " function value= \n",
      "353.6212541929781\n",
      "Iteration number: \n",
      "50\n",
      " function value= \n",
      "540.6646764921156\n",
      "Iteration number: \n",
      "75\n",
      " function value= \n",
      "539.8605337971821\n"
     ]
    },
    {
     "name": "stderr",
     "output_type": "stream",
     "text": [
      "/Users/jonathankarin/.conda/envs/spctral_jan/lib/python3.9/site-packages/scanpy/preprocessing/_deprecated/highly_variable_genes.py:145: RuntimeWarning: invalid value encountered in log\n",
      "  dispersion = np.log(dispersion)\n"
     ]
    },
    {
     "name": "stdout",
     "output_type": "stream",
     "text": [
      "Iteration number: \n",
      "0\n",
      " function value= \n",
      "1.1893096524552543e-22\n",
      "Iteration number: \n",
      "25\n",
      " function value= \n",
      "343.330139454703\n",
      "Iteration number: \n",
      "50\n",
      " function value= \n",
      "528.5000990137974\n",
      "Iteration number: \n",
      "75\n",
      " function value= \n",
      "537.2518987343412\n"
     ]
    },
    {
     "name": "stderr",
     "output_type": "stream",
     "text": [
      "/Users/jonathankarin/.conda/envs/spctral_jan/lib/python3.9/site-packages/scanpy/preprocessing/_deprecated/highly_variable_genes.py:145: RuntimeWarning: invalid value encountered in log\n",
      "  dispersion = np.log(dispersion)\n"
     ]
    },
    {
     "name": "stdout",
     "output_type": "stream",
     "text": [
      "Iteration number: \n",
      "0\n",
      " function value= \n",
      "1.1929998464817076e-22\n",
      "Iteration number: \n",
      "25\n",
      " function value= \n",
      "335.89704156895675\n",
      "Iteration number: \n",
      "50\n",
      " function value= \n",
      "535.8232815526786\n",
      "Iteration number: \n",
      "75\n",
      " function value= \n",
      "544.3170565951475\n"
     ]
    },
    {
     "name": "stderr",
     "output_type": "stream",
     "text": [
      "/Users/jonathankarin/.conda/envs/spctral_jan/lib/python3.9/site-packages/scanpy/preprocessing/_deprecated/highly_variable_genes.py:145: RuntimeWarning: invalid value encountered in log\n",
      "  dispersion = np.log(dispersion)\n"
     ]
    },
    {
     "name": "stdout",
     "output_type": "stream",
     "text": [
      "Iteration number: \n",
      "0\n",
      " function value= \n",
      "1.1730145211655712e-22\n",
      "Iteration number: \n",
      "25\n",
      " function value= \n",
      "290.5985685521986\n",
      "Iteration number: \n",
      "50\n",
      " function value= \n",
      "475.12882492161475\n",
      "Iteration number: \n",
      "75\n",
      " function value= \n",
      "464.6893130016959\n"
     ]
    },
    {
     "name": "stderr",
     "output_type": "stream",
     "text": [
      "/Users/jonathankarin/.conda/envs/spctral_jan/lib/python3.9/site-packages/scanpy/preprocessing/_deprecated/highly_variable_genes.py:145: RuntimeWarning: invalid value encountered in log\n",
      "  dispersion = np.log(dispersion)\n"
     ]
    },
    {
     "name": "stdout",
     "output_type": "stream",
     "text": [
      "Iteration number: \n",
      "0\n",
      " function value= \n",
      "1.1662819613288966e-22\n",
      "Iteration number: \n",
      "25\n",
      " function value= \n",
      "295.19929083155455\n",
      "Iteration number: \n",
      "50\n",
      " function value= \n",
      "452.52481298592363\n",
      "Iteration number: \n",
      "75\n",
      " function value= \n",
      "474.35461815230474\n"
     ]
    },
    {
     "name": "stderr",
     "output_type": "stream",
     "text": [
      "/Users/jonathankarin/.conda/envs/spctral_jan/lib/python3.9/site-packages/scanpy/preprocessing/_deprecated/highly_variable_genes.py:145: RuntimeWarning: invalid value encountered in log\n",
      "  dispersion = np.log(dispersion)\n"
     ]
    },
    {
     "name": "stdout",
     "output_type": "stream",
     "text": [
      "Iteration number: \n",
      "0\n",
      " function value= \n",
      "1.1715152374321262e-22\n",
      "Iteration number: \n",
      "25\n",
      " function value= \n",
      "279.0285459210083\n",
      "Iteration number: \n",
      "50\n",
      " function value= \n",
      "412.1634067075541\n",
      "Iteration number: \n",
      "75\n",
      " function value= \n",
      "451.87213411593905\n"
     ]
    },
    {
     "name": "stderr",
     "output_type": "stream",
     "text": [
      "/Users/jonathankarin/.conda/envs/spctral_jan/lib/python3.9/site-packages/scanpy/preprocessing/_deprecated/highly_variable_genes.py:145: RuntimeWarning: invalid value encountered in log\n",
      "  dispersion = np.log(dispersion)\n"
     ]
    },
    {
     "name": "stdout",
     "output_type": "stream",
     "text": [
      "Iteration number: \n",
      "0\n",
      " function value= \n",
      "1.1762138548893552e-22\n",
      "Iteration number: \n",
      "25\n",
      " function value= \n",
      "264.6883190155163\n",
      "Iteration number: \n",
      "50\n",
      " function value= \n",
      "414.94165842789386\n",
      "Iteration number: \n",
      "75\n",
      " function value= \n",
      "440.9112818069123\n"
     ]
    },
    {
     "name": "stderr",
     "output_type": "stream",
     "text": [
      "/Users/jonathankarin/.conda/envs/spctral_jan/lib/python3.9/site-packages/scanpy/preprocessing/_deprecated/highly_variable_genes.py:145: RuntimeWarning: invalid value encountered in log\n",
      "  dispersion = np.log(dispersion)\n"
     ]
    },
    {
     "name": "stdout",
     "output_type": "stream",
     "text": [
      "Iteration number: \n",
      "0\n",
      " function value= \n",
      "1.1928709356507378e-22\n",
      "Iteration number: \n",
      "25\n",
      " function value= \n",
      "257.8726764270588\n",
      "Iteration number: \n",
      "50\n",
      " function value= \n",
      "410.10815103154016\n",
      "Iteration number: \n",
      "75\n",
      " function value= \n",
      "441.1729935291693\n"
     ]
    },
    {
     "name": "stderr",
     "output_type": "stream",
     "text": [
      "/Users/jonathankarin/.conda/envs/spctral_jan/lib/python3.9/site-packages/scanpy/preprocessing/_deprecated/highly_variable_genes.py:145: RuntimeWarning: invalid value encountered in log\n",
      "  dispersion = np.log(dispersion)\n"
     ]
    },
    {
     "name": "stdout",
     "output_type": "stream",
     "text": [
      "Iteration number: \n",
      "0\n",
      " function value= \n",
      "1.1990803098743834e-22\n",
      "Iteration number: \n",
      "25\n",
      " function value= \n",
      "226.65555535210154\n",
      "Iteration number: \n",
      "50\n",
      " function value= \n",
      "403.8867197478125\n",
      "Iteration number: \n",
      "75\n",
      " function value= \n",
      "437.32818490329413\n"
     ]
    }
   ],
   "source": [
    "for i in range(20):\n",
    "    bdata = copy.deepcopy(adata.copy())\n",
    "    bdata.X =  np.array(bdata.X).astype('float64')\n",
    "    sc.pp.filter_genes_dispersion(bdata,n_top_genes=(500*(i+1)))\n",
    "    E_sga  , E_rec_sga = reconstruction_cyclic(bdata.X , iterNum=100)\n",
    "    sga_range= e_to_range(E_rec_sga)\n",
    "    bdata = bdata[sga_range,:]\n",
    "    mean_var , mean_list = get_circular_mean_var(bdata)\n",
    "    mean_circuluar_var.append(mean_var)\n",
    "    mean_circuluar.append(mean_list)\n",
    "    hvg_num.append((500*(i+1)))"
   ]
  },
  {
   "cell_type": "code",
   "execution_count": 5,
   "id": "47353ce5",
   "metadata": {},
   "outputs": [
    {
     "name": "stderr",
     "output_type": "stream",
     "text": [
      "/var/folders/yk/yt973zks3y50tkwcqhndwqrm0000gn/T/ipykernel_22014/1006678004.py:3: UserWarning: color is redundantly defined by the 'color' keyword argument and the fmt string \"bo\" (-> color='b'). The keyword argument will take precedence.\n",
      "  ax.plot((np.array(hvg_num)),(np.array(mean_circuluar_var)), 'bo',color='b')\n"
     ]
    },
    {
     "data": {
      "image/png": "[encoded data removed]",
      "text/plain": [
       "<Figure size 432x288 with 1 Axes>"
      ]
     },
     "metadata": {
      "needs_background": "light"
     },
     "output_type": "display_data"
    }
   ],
   "source": [
    "fig, ax = plt.subplots()\n",
    "\n",
    "ax.plot((np.array(hvg_num)),(np.array(mean_circuluar_var)), 'bo',color='b')\n",
    "ax.set_xlabel(\"HVG's number \" ,  fontsize=16)\n",
    "ax.set_ylabel(\"Mean circular variance \" ,  fontsize=16)\n",
    "plt.tick_params(labelsize=16)\n",
    "ax.grid(True)\n",
    "ax.set_ylim([0, 1])\n",
    "plt.show()"
   ]
  },
  {
   "cell_type": "code",
   "execution_count": 6,
   "id": "aad9bbeb",
   "metadata": {},
   "outputs": [
    {
     "data": {
      "text/plain": [
       "(20, 5)"
      ]
     },
     "execution_count": 6,
     "metadata": {},
     "output_type": "execute_result"
    }
   ],
   "source": [
    "mean_c = np.array(mean_circuluar)\n",
    "mean_c.shape"
   ]
  },
  {
   "cell_type": "code",
   "execution_count": 11,
   "id": "de76ea7d",
   "metadata": {},
   "outputs": [
    {
     "name": "stderr",
     "output_type": "stream",
     "text": [
      "/var/folders/yk/yt973zks3y50tkwcqhndwqrm0000gn/T/ipykernel_22014/1780797329.py:3: UserWarning: color is redundantly defined by the 'color' keyword argument and the fmt string \"bo\" (-> color='b'). The keyword argument will take precedence.\n",
      "  ax.plot((np.array(hvg_num)),(np.array(mean_c[:,0])), 'bo',color='b' , label='G1S')\n",
      "/var/folders/yk/yt973zks3y50tkwcqhndwqrm0000gn/T/ipykernel_22014/1780797329.py:4: UserWarning: color is redundantly defined by the 'color' keyword argument and the fmt string \"bo\" (-> color='b'). The keyword argument will take precedence.\n",
      "  ax.plot((np.array(hvg_num)),(np.array(mean_c[:,1])), 'bo',color='r' , label='S')\n",
      "/var/folders/yk/yt973zks3y50tkwcqhndwqrm0000gn/T/ipykernel_22014/1780797329.py:5: UserWarning: color is redundantly defined by the 'color' keyword argument and the fmt string \"bo\" (-> color='b'). The keyword argument will take precedence.\n",
      "  ax.plot((np.array(hvg_num)),(np.array(mean_c[:,2])), 'bo',color='g' , label='G2')\n",
      "/var/folders/yk/yt973zks3y50tkwcqhndwqrm0000gn/T/ipykernel_22014/1780797329.py:6: UserWarning: color is redundantly defined by the 'color' keyword argument and the fmt string \"bo\" (-> color='b'). The keyword argument will take precedence.\n",
      "  ax.plot((np.array(hvg_num)),(np.array(mean_c[:,3])), 'bo',color='brown' , label='G2M')\n",
      "/var/folders/yk/yt973zks3y50tkwcqhndwqrm0000gn/T/ipykernel_22014/1780797329.py:7: UserWarning: color is redundantly defined by the 'color' keyword argument and the fmt string \"bo\" (-> color='b'). The keyword argument will take precedence.\n",
      "  ax.plot((np.array(hvg_num)),(np.array(mean_c[:,4])), 'bo',color='purple' , label='MG1')\n"
     ]
    },
    {
     "data": {
      "image/png": "[encoded data removed]",
      "text/plain": [
       "<Figure size 432x288 with 1 Axes>"
      ]
     },
     "metadata": {
      "needs_background": "light"
     },
     "output_type": "display_data"
    }
   ],
   "source": [
    "fig, ax = plt.subplots()\n",
    "\n",
    "ax.plot((np.array(hvg_num)),(np.array(mean_c[:,0])), 'bo',color='b' , label='G1S')\n",
    "ax.plot((np.array(hvg_num)),(np.array(mean_c[:,1])), 'bo',color='r' , label='S')\n",
    "ax.plot((np.array(hvg_num)),(np.array(mean_c[:,2])), 'bo',color='g' , label='G2')\n",
    "ax.plot((np.array(hvg_num)),(np.array(mean_c[:,3])), 'bo',color='brown' , label='G2M')\n",
    "ax.plot((np.array(hvg_num)),(np.array(mean_c[:,4])), 'bo',color='purple' , label='MG1')\n",
    "ax.set_xlabel(\"HVG's number \" ,  fontsize=16)\n",
    "ax.set_ylabel(\"Circular mean\" ,  fontsize=16)\n",
    "plt.tick_params(labelsize=16)\n",
    "ax.grid(True)\n",
    "plt.legend()\n",
    "plt.show()"
   ]
  },
  {
   "cell_type": "code",
   "execution_count": null,
   "id": "e328d48b",
   "metadata": {},
   "outputs": [],
   "source": []
  }
 ],
 "metadata": {
  "kernelspec": {
   "display_name": "Python 3 (ipykernel)",
   "language": "python",
   "name": "python3"
  },
  "language_info": {
   "codemirror_mode": {
    "name": "ipython",
    "version": 3
   },
   "file_extension": ".py",
   "mimetype": "text/x-python",
   "name": "python",
   "nbconvert_exporter": "python",
   "pygments_lexer": "ipython3",
   "version": "3.9.9"
  }
 },
 "nbformat": 4,
 "nbformat_minor": 5
}
