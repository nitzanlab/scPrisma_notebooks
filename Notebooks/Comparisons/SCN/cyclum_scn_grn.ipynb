{
 "cells": [
  {
   "cell_type": "code",
   "execution_count": 4,
   "id": "4e05c748",
   "metadata": {},
   "outputs": [],
   "source": [
    "import copy\n",
    "\n",
    "import matplotlib.pyplot as plt\n",
    "import numpy as np\n",
    "import scanpy as sc\n",
    "import pandas as pd\n",
    "from data_gen import *\n",
    "from visualizations import *\n",
    "from arboreto.utils import load_tf_names\n",
    "from arboreto.algo import grnboost2\n"
   ]
  },
  {
   "cell_type": "code",
   "execution_count": 27,
   "id": "528fe6fb",
   "metadata": {},
   "outputs": [],
   "source": [
    "def calculate_tf_scores(network_en,network_raw, tf, target_list):\n",
    "    tf_en_df =  network_en.loc[((network_en['TF'] == tf)) ]\n",
    "    tf_raw_df =  network_raw.loc[((network_raw['TF'] == tf))] \n",
    "    for item in target_list:\n",
    "        print(item + \" enhancement: \")\n",
    "        tf_en_df_item =  tf_en_df.loc[((tf_en_df['target'] == item)) ]\n",
    "        if len(tf_en_df_item)==0:\n",
    "            print(0)\n",
    "        else:\n",
    "            print(tf_en_df_item['importance'])\n",
    "    \n",
    "    for item in target_list:\n",
    "        print(item + \" raw: \")\n",
    "        tf_raw_df_item =  tf_raw_df.loc[((tf_raw_df['target'] == item)) ]\n",
    "        if len(tf_raw_df_item)==0:\n",
    "            print(0)\n",
    "        else:\n",
    "            print(tf_raw_df_item['importance'])\n",
    "    \n",
    "    pass"
   ]
  },
  {
   "cell_type": "code",
   "execution_count": 7,
   "id": "63e2ecd2",
   "metadata": {},
   "outputs": [],
   "source": [
    "def network_grn(cluster):\n",
    "    '''Calculate the gene regulatory network for specific cell type'''\n",
    "    adata = sc.read(\"SCN/\" + cluster+\"_en_cyclum\" +\".h5ad\")\n",
    "    ge = np.array(adata.X)\n",
    "    genes = adata.var_names\n",
    "    df = pd.read_csv(\"Mus_musculus_TF.txt\", '\\t')\n",
    "    list_of_tf = list(df['Symbol'].values)\n",
    "    list_of_tf = [x for x in list_of_tf if x in adata.var_names]\n",
    "    print(\"start\")\n",
    "    network = grnboost2(expression_data=ge,\n",
    "                            gene_names=genes,  # specify the gene_names\n",
    "                            tf_names=list_of_tf)\n",
    "    network.to_csv('SCN/' + cluster + '_netowrk_en_cyclum_tf.csv')  \n",
    "    print(\"en done\")\n",
    "    adata = sc.read(\"SCN/\" + cluster+\"_raw_cyclum\" +\".h5ad\")\n",
    "    ge = np.array(adata.X)\n",
    "    genes = adata.var_names\n",
    "    list_of_tf = list(df['Symbol'].values)\n",
    "    list_of_tf = [x for x in list_of_tf if x in adata.var_names]\n",
    "    network = grnboost2(expression_data=ge,\n",
    "                            gene_names=genes,  # specify the gene_names\n",
    "                            tf_names=list_of_tf)\n",
    "    network.to_csv('SCN/' + cluster + '_netowrk_raw_cyclum_tf.csv')  \n",
    "    print(cluster + \" done\")\n",
    "    pass\n"
   ]
  },
  {
   "cell_type": "code",
   "execution_count": 10,
   "id": "ab51d2c5",
   "metadata": {},
   "outputs": [
    {
     "name": "stderr",
     "output_type": "stream",
     "text": [
      "/Users/jonathankarin/.conda/envs/cyclum/lib/python3.7/site-packages/ipykernel_launcher.py:1: FutureWarning: In a future version of pandas all arguments of read_csv except for the argument 'filepath_or_buffer' will be keyword-only\n",
      "  \"\"\"Entry point for launching an IPython kernel.\n"
     ]
    },
    {
     "name": "stdout",
     "output_type": "stream",
     "text": [
      "start\n",
      "en done\n",
      "Astrocytes done\n"
     ]
    }
   ],
   "source": [
    "network_grn('Astrocytes')"
   ]
  },
  {
   "cell_type": "code",
   "execution_count": 9,
   "id": "bbe570cd",
   "metadata": {},
   "outputs": [
    {
     "name": "stdout",
     "output_type": "stream",
     "text": [
      "start\n"
     ]
    },
    {
     "name": "stderr",
     "output_type": "stream",
     "text": [
      "/Users/jonathankarin/.conda/envs/cyclum/lib/python3.7/site-packages/ipykernel_launcher.py:1: FutureWarning: In a future version of pandas all arguments of read_csv except for the argument 'filepath_or_buffer' will be keyword-only\n",
      "  \"\"\"Entry point for launching an IPython kernel.\n",
      "distributed.nanny - WARNING - Worker process still alive after 3.998556709289551 seconds, killing\n",
      "distributed.nanny - WARNING - Worker process still alive after 3.999995040893555 seconds, killing\n",
      "distributed.nanny - WARNING - Worker process still alive after 3.9999975204467777 seconds, killing\n",
      "distributed.nanny - WARNING - Worker process still alive after 3.9999961853027344 seconds, killing\n"
     ]
    },
    {
     "name": "stdout",
     "output_type": "stream",
     "text": [
      "en done\n"
     ]
    },
    {
     "name": "stderr",
     "output_type": "stream",
     "text": [
      "distributed.nanny - WARNING - Worker process still alive after 3.9994033813476566 seconds, killing\n",
      "distributed.nanny - WARNING - Worker process still alive after 3.9999982833862306 seconds, killing\n",
      "distributed.nanny - WARNING - Worker process still alive after 3.9999990463256836 seconds, killing\n",
      "distributed.nanny - WARNING - Worker process still alive after 3.999998474121094 seconds, killing\n"
     ]
    },
    {
     "name": "stdout",
     "output_type": "stream",
     "text": [
      "Ependymal done\n"
     ]
    }
   ],
   "source": [
    "network_grn('Ependymal')"
   ]
  },
  {
   "cell_type": "code",
   "execution_count": 8,
   "id": "7f3c68fb",
   "metadata": {},
   "outputs": [
    {
     "name": "stdout",
     "output_type": "stream",
     "text": [
      "start\n"
     ]
    },
    {
     "name": "stderr",
     "output_type": "stream",
     "text": [
      "/Users/jonathankarin/.conda/envs/cyclum/lib/python3.7/site-packages/ipykernel_launcher.py:1: FutureWarning: In a future version of pandas all arguments of read_csv except for the argument 'filepath_or_buffer' will be keyword-only\n",
      "  \"\"\"Entry point for launching an IPython kernel.\n"
     ]
    },
    {
     "name": "stdout",
     "output_type": "stream",
     "text": [
      "en done\n",
      "Endothelial done\n"
     ]
    }
   ],
   "source": [
    "network_grn('Endothelial')"
   ]
  },
  {
   "cell_type": "code",
   "execution_count": 38,
   "id": "fc837f0d",
   "metadata": {},
   "outputs": [
    {
     "name": "stderr",
     "output_type": "stream",
     "text": [
      "/Users/jonathankarin/.conda/envs/cyclum/lib/python3.7/site-packages/ipykernel_launcher.py:1: FutureWarning: In a future version of pandas all arguments of read_csv except for the argument 'filepath_or_buffer' will be keyword-only\n",
      "  \"\"\"Entry point for launching an IPython kernel.\n"
     ]
    },
    {
     "name": "stdout",
     "output_type": "stream",
     "text": [
      "start\n",
      "en done\n"
     ]
    },
    {
     "name": "stderr",
     "output_type": "stream",
     "text": [
      "distributed.nanny - WARNING - Worker process still alive after 3.9999799728393555 seconds, killing\n",
      "distributed.nanny - WARNING - Worker process still alive after 3.999998664855957 seconds, killing\n",
      "distributed.nanny - WARNING - Worker process still alive after 3.9999975204467777 seconds, killing\n",
      "distributed.nanny - WARNING - Worker process still alive after 3.999998474121094 seconds, killing\n"
     ]
    },
    {
     "name": "stdout",
     "output_type": "stream",
     "text": [
      "NG2 done\n"
     ]
    }
   ],
   "source": [
    "network_grn('NG2')"
   ]
  },
  {
   "cell_type": "code",
   "execution_count": 40,
   "id": "29e09880",
   "metadata": {},
   "outputs": [
    {
     "name": "stderr",
     "output_type": "stream",
     "text": [
      "/Users/jonathankarin/.conda/envs/cyclum/lib/python3.7/site-packages/ipykernel_launcher.py:1: FutureWarning: In a future version of pandas all arguments of read_csv except for the argument 'filepath_or_buffer' will be keyword-only\n",
      "  \"\"\"Entry point for launching an IPython kernel.\n"
     ]
    },
    {
     "name": "stdout",
     "output_type": "stream",
     "text": [
      "start\n"
     ]
    },
    {
     "name": "stderr",
     "output_type": "stream",
     "text": [
      "/Users/jonathankarin/.conda/envs/cyclum/lib/python3.7/site-packages/distributed/node.py:182: UserWarning: Port 8787 is already in use.\n",
      "Perhaps you already have a cluster running?\n",
      "Hosting the HTTP server on port 53858 instead\n",
      "  f\"Port {expected} is already in use.\\n\"\n",
      "distributed.nanny - WARNING - Worker process still alive after 3.9994184494018556 seconds, killing\n",
      "distributed.nanny - WARNING - Worker process still alive after 3.9999982833862306 seconds, killing\n",
      "distributed.nanny - WARNING - Worker process still alive after 3.999999237060547 seconds, killing\n",
      "distributed.nanny - WARNING - Worker process still alive after 3.9999990463256836 seconds, killing\n"
     ]
    },
    {
     "name": "stdout",
     "output_type": "stream",
     "text": [
      "en done\n"
     ]
    },
    {
     "name": "stderr",
     "output_type": "stream",
     "text": [
      "/Users/jonathankarin/.conda/envs/cyclum/lib/python3.7/site-packages/distributed/node.py:182: UserWarning: Port 8787 is already in use.\n",
      "Perhaps you already have a cluster running?\n",
      "Hosting the HTTP server on port 62298 instead\n",
      "  f\"Port {expected} is already in use.\\n\"\n",
      "distributed.utils_perf - WARNING - full garbage collections took 37% CPU time recently (threshold: 10%)\n",
      "distributed.utils_perf - WARNING - full garbage collections took 37% CPU time recently (threshold: 10%)\n"
     ]
    },
    {
     "ename": "TimeoutError",
     "evalue": "timed out after 60 s.",
     "output_type": "error",
     "traceback": [
      "\u001b[0;31m---------------------------------------------------------------------------\u001b[0m",
      "\u001b[0;31mTimeoutError\u001b[0m                              Traceback (most recent call last)",
      "\u001b[0;32m/var/folders/yk/yt973zks3y50tkwcqhndwqrm0000gn/T/ipykernel_4428/3654762813.py\u001b[0m in \u001b[0;36m<module>\u001b[0;34m\u001b[0m\n\u001b[0;32m----> 1\u001b[0;31m \u001b[0mnetwork_grn\u001b[0m\u001b[0;34m(\u001b[0m\u001b[0;34m'SCN Neurons'\u001b[0m\u001b[0;34m)\u001b[0m\u001b[0;34m\u001b[0m\u001b[0;34m\u001b[0m\u001b[0m\n\u001b[0m",
      "\u001b[0;32m/var/folders/yk/yt973zks3y50tkwcqhndwqrm0000gn/T/ipykernel_4428/468374505.py\u001b[0m in \u001b[0;36mnetwork_grn\u001b[0;34m(cluster)\u001b[0m\n\u001b[1;32m     20\u001b[0m     network = grnboost2(expression_data=ge,\n\u001b[1;32m     21\u001b[0m                             \u001b[0mgene_names\u001b[0m\u001b[0;34m=\u001b[0m\u001b[0mgenes\u001b[0m\u001b[0;34m,\u001b[0m  \u001b[0;31m# specify the gene_names\u001b[0m\u001b[0;34m\u001b[0m\u001b[0;34m\u001b[0m\u001b[0m\n\u001b[0;32m---> 22\u001b[0;31m                             tf_names=list_of_tf)\n\u001b[0m\u001b[1;32m     23\u001b[0m     \u001b[0mnetwork\u001b[0m\u001b[0;34m.\u001b[0m\u001b[0mto_csv\u001b[0m\u001b[0;34m(\u001b[0m\u001b[0;34m'SCN/'\u001b[0m \u001b[0;34m+\u001b[0m \u001b[0mcluster\u001b[0m \u001b[0;34m+\u001b[0m \u001b[0;34m'_netowrk_raw_cyclum_tf.csv'\u001b[0m\u001b[0;34m)\u001b[0m\u001b[0;34m\u001b[0m\u001b[0;34m\u001b[0m\u001b[0m\n\u001b[1;32m     24\u001b[0m     \u001b[0mprint\u001b[0m\u001b[0;34m(\u001b[0m\u001b[0mcluster\u001b[0m \u001b[0;34m+\u001b[0m \u001b[0;34m\" done\"\u001b[0m\u001b[0;34m)\u001b[0m\u001b[0;34m\u001b[0m\u001b[0;34m\u001b[0m\u001b[0m\n",
      "\u001b[0;32m~/.conda/envs/cyclum/lib/python3.7/site-packages/arboreto/algo.py\u001b[0m in \u001b[0;36mgrnboost2\u001b[0;34m(expression_data, gene_names, tf_names, client_or_address, early_stop_window_length, limit, seed, verbose)\u001b[0m\n\u001b[1;32m     39\u001b[0m     return diy(expression_data=expression_data, regressor_type='GBM', regressor_kwargs=SGBM_KWARGS,\n\u001b[1;32m     40\u001b[0m                \u001b[0mgene_names\u001b[0m\u001b[0;34m=\u001b[0m\u001b[0mgene_names\u001b[0m\u001b[0;34m,\u001b[0m \u001b[0mtf_names\u001b[0m\u001b[0;34m=\u001b[0m\u001b[0mtf_names\u001b[0m\u001b[0;34m,\u001b[0m \u001b[0mclient_or_address\u001b[0m\u001b[0;34m=\u001b[0m\u001b[0mclient_or_address\u001b[0m\u001b[0;34m,\u001b[0m\u001b[0;34m\u001b[0m\u001b[0;34m\u001b[0m\u001b[0m\n\u001b[0;32m---> 41\u001b[0;31m                early_stop_window_length=early_stop_window_length, limit=limit, seed=seed, verbose=verbose)\n\u001b[0m\u001b[1;32m     42\u001b[0m \u001b[0;34m\u001b[0m\u001b[0m\n\u001b[1;32m     43\u001b[0m \u001b[0;34m\u001b[0m\u001b[0m\n",
      "\u001b[0;32m~/.conda/envs/cyclum/lib/python3.7/site-packages/arboreto/algo.py\u001b[0m in \u001b[0;36mdiy\u001b[0;34m(expression_data, regressor_type, regressor_kwargs, gene_names, tf_names, client_or_address, early_stop_window_length, limit, seed, verbose)\u001b[0m\n\u001b[1;32m    137\u001b[0m \u001b[0;34m\u001b[0m\u001b[0m\n\u001b[1;32m    138\u001b[0m     \u001b[0;32mfinally\u001b[0m\u001b[0;34m:\u001b[0m\u001b[0;34m\u001b[0m\u001b[0;34m\u001b[0m\u001b[0m\n\u001b[0;32m--> 139\u001b[0;31m         \u001b[0mshutdown_callback\u001b[0m\u001b[0;34m(\u001b[0m\u001b[0mverbose\u001b[0m\u001b[0;34m)\u001b[0m\u001b[0;34m\u001b[0m\u001b[0;34m\u001b[0m\u001b[0m\n\u001b[0m\u001b[1;32m    140\u001b[0m \u001b[0;34m\u001b[0m\u001b[0m\n\u001b[1;32m    141\u001b[0m         \u001b[0;32mif\u001b[0m \u001b[0mverbose\u001b[0m\u001b[0;34m:\u001b[0m\u001b[0;34m\u001b[0m\u001b[0;34m\u001b[0m\u001b[0m\n",
      "\u001b[0;32m~/.conda/envs/cyclum/lib/python3.7/site-packages/arboreto/algo.py\u001b[0m in \u001b[0;36mclose_client_and_local_cluster\u001b[0;34m(verbose)\u001b[0m\n\u001b[1;32m    162\u001b[0m                 \u001b[0mprint\u001b[0m\u001b[0;34m(\u001b[0m\u001b[0;34m'shutting down client and local cluster'\u001b[0m\u001b[0;34m)\u001b[0m\u001b[0;34m\u001b[0m\u001b[0;34m\u001b[0m\u001b[0m\n\u001b[1;32m    163\u001b[0m \u001b[0;34m\u001b[0m\u001b[0m\n\u001b[0;32m--> 164\u001b[0;31m             \u001b[0mclient\u001b[0m\u001b[0;34m.\u001b[0m\u001b[0mclose\u001b[0m\u001b[0;34m(\u001b[0m\u001b[0;34m)\u001b[0m\u001b[0;34m\u001b[0m\u001b[0;34m\u001b[0m\u001b[0m\n\u001b[0m\u001b[1;32m    165\u001b[0m             \u001b[0mlocal_cluster\u001b[0m\u001b[0;34m.\u001b[0m\u001b[0mclose\u001b[0m\u001b[0;34m(\u001b[0m\u001b[0;34m)\u001b[0m\u001b[0;34m\u001b[0m\u001b[0;34m\u001b[0m\u001b[0m\n\u001b[1;32m    166\u001b[0m \u001b[0;34m\u001b[0m\u001b[0m\n",
      "\u001b[0;32m~/.conda/envs/cyclum/lib/python3.7/site-packages/distributed/client.py\u001b[0m in \u001b[0;36mclose\u001b[0;34m(self, timeout)\u001b[0m\n\u001b[1;32m   1579\u001b[0m                     \u001b[0mself\u001b[0m\u001b[0;34m.\u001b[0m\u001b[0msync\u001b[0m\u001b[0;34m(\u001b[0m\u001b[0m_\u001b[0m\u001b[0;34m)\u001b[0m\u001b[0;34m\u001b[0m\u001b[0;34m\u001b[0m\u001b[0m\n\u001b[1;32m   1580\u001b[0m \u001b[0;34m\u001b[0m\u001b[0m\n\u001b[0;32m-> 1581\u001b[0;31m         \u001b[0msync\u001b[0m\u001b[0;34m(\u001b[0m\u001b[0mself\u001b[0m\u001b[0;34m.\u001b[0m\u001b[0mloop\u001b[0m\u001b[0;34m,\u001b[0m \u001b[0mself\u001b[0m\u001b[0;34m.\u001b[0m\u001b[0m_close\u001b[0m\u001b[0;34m,\u001b[0m \u001b[0mfast\u001b[0m\u001b[0;34m=\u001b[0m\u001b[0;32mTrue\u001b[0m\u001b[0;34m,\u001b[0m \u001b[0mcallback_timeout\u001b[0m\u001b[0;34m=\u001b[0m\u001b[0mtimeout\u001b[0m\u001b[0;34m)\u001b[0m\u001b[0;34m\u001b[0m\u001b[0;34m\u001b[0m\u001b[0m\n\u001b[0m\u001b[1;32m   1582\u001b[0m \u001b[0;34m\u001b[0m\u001b[0m\n\u001b[1;32m   1583\u001b[0m         \u001b[0;32massert\u001b[0m \u001b[0mself\u001b[0m\u001b[0;34m.\u001b[0m\u001b[0mstatus\u001b[0m \u001b[0;34m==\u001b[0m \u001b[0;34m\"closed\"\u001b[0m\u001b[0;34m\u001b[0m\u001b[0;34m\u001b[0m\u001b[0m\n",
      "\u001b[0;32m~/.conda/envs/cyclum/lib/python3.7/site-packages/distributed/utils.py\u001b[0m in \u001b[0;36msync\u001b[0;34m(loop, func, callback_timeout, *args, **kwargs)\u001b[0m\n\u001b[1;32m    367\u001b[0m     \u001b[0;32mif\u001b[0m \u001b[0mcallback_timeout\u001b[0m \u001b[0;32mis\u001b[0m \u001b[0;32mnot\u001b[0m \u001b[0;32mNone\u001b[0m\u001b[0;34m:\u001b[0m\u001b[0;34m\u001b[0m\u001b[0;34m\u001b[0m\u001b[0m\n\u001b[1;32m    368\u001b[0m         \u001b[0;32mif\u001b[0m \u001b[0;32mnot\u001b[0m \u001b[0mwait\u001b[0m\u001b[0;34m(\u001b[0m\u001b[0mcallback_timeout\u001b[0m\u001b[0;34m)\u001b[0m\u001b[0;34m:\u001b[0m\u001b[0;34m\u001b[0m\u001b[0;34m\u001b[0m\u001b[0m\n\u001b[0;32m--> 369\u001b[0;31m             \u001b[0;32mraise\u001b[0m \u001b[0mTimeoutError\u001b[0m\u001b[0;34m(\u001b[0m\u001b[0;34mf\"timed out after {callback_timeout} s.\"\u001b[0m\u001b[0;34m)\u001b[0m\u001b[0;34m\u001b[0m\u001b[0;34m\u001b[0m\u001b[0m\n\u001b[0m\u001b[1;32m    370\u001b[0m     \u001b[0;32melse\u001b[0m\u001b[0;34m:\u001b[0m\u001b[0;34m\u001b[0m\u001b[0;34m\u001b[0m\u001b[0m\n\u001b[1;32m    371\u001b[0m         \u001b[0;32mwhile\u001b[0m \u001b[0;32mnot\u001b[0m \u001b[0me\u001b[0m\u001b[0;34m.\u001b[0m\u001b[0mis_set\u001b[0m\u001b[0;34m(\u001b[0m\u001b[0;34m)\u001b[0m\u001b[0;34m:\u001b[0m\u001b[0;34m\u001b[0m\u001b[0;34m\u001b[0m\u001b[0m\n",
      "\u001b[0;31mTimeoutError\u001b[0m: timed out after 60 s."
     ]
    }
   ],
   "source": [
    "network_grn('SCN Neurons')"
   ]
  },
  {
   "cell_type": "code",
   "execution_count": 42,
   "id": "3e497125",
   "metadata": {},
   "outputs": [
    {
     "name": "stderr",
     "output_type": "stream",
     "text": [
      "/Users/jonathankarin/.conda/envs/cyclum/lib/python3.7/site-packages/IPython/core/interactiveshell.py:3444: FutureWarning: In a future version of pandas all arguments of read_csv except for the argument 'filepath_or_buffer' will be keyword-only\n",
      "  exec(code_obj, self.user_global_ns, self.user_ns)\n",
      "/Users/jonathankarin/.conda/envs/cyclum/lib/python3.7/site-packages/distributed/node.py:182: UserWarning: Port 8787 is already in use.\n",
      "Perhaps you already have a cluster running?\n",
      "Hosting the HTTP server on port 59919 instead\n",
      "  f\"Port {expected} is already in use.\\n\"\n",
      "distributed.utils_perf - WARNING - full garbage collections took 36% CPU time recently (threshold: 10%)\n",
      "distributed.utils_perf - WARNING - full garbage collections took 36% CPU time recently (threshold: 10%)\n",
      "distributed.utils_perf - WARNING - full garbage collections took 37% CPU time recently (threshold: 10%)\n",
      "distributed.utils_perf - WARNING - full garbage collections took 37% CPU time recently (threshold: 10%)\n",
      "distributed.utils_perf - WARNING - full garbage collections took 38% CPU time recently (threshold: 10%)\n",
      "distributed.utils_perf - WARNING - full garbage collections took 37% CPU time recently (threshold: 10%)\n"
     ]
    },
    {
     "ename": "TimeoutError",
     "evalue": "timed out after 60 s.",
     "output_type": "error",
     "traceback": [
      "\u001b[0;31m---------------------------------------------------------------------------\u001b[0m",
      "\u001b[0;31mTimeoutError\u001b[0m                              Traceback (most recent call last)",
      "\u001b[0;32m/var/folders/yk/yt973zks3y50tkwcqhndwqrm0000gn/T/ipykernel_4428/1218696615.py\u001b[0m in \u001b[0;36m<module>\u001b[0;34m\u001b[0m\n\u001b[1;32m      8\u001b[0m network = grnboost2(expression_data=ge,\n\u001b[1;32m      9\u001b[0m                             \u001b[0mgene_names\u001b[0m\u001b[0;34m=\u001b[0m\u001b[0mgenes\u001b[0m\u001b[0;34m,\u001b[0m  \u001b[0;31m# specify the gene_names\u001b[0m\u001b[0;34m\u001b[0m\u001b[0;34m\u001b[0m\u001b[0m\n\u001b[0;32m---> 10\u001b[0;31m                             tf_names=list_of_tf)\n\u001b[0m\u001b[1;32m     11\u001b[0m \u001b[0mnetwork\u001b[0m\u001b[0;34m.\u001b[0m\u001b[0mto_csv\u001b[0m\u001b[0;34m(\u001b[0m\u001b[0;34m'SCN/'\u001b[0m \u001b[0;34m+\u001b[0m \u001b[0mcluster\u001b[0m \u001b[0;34m+\u001b[0m \u001b[0;34m'_netowrk_raw_cyclum_tf.csv'\u001b[0m\u001b[0;34m)\u001b[0m\u001b[0;34m\u001b[0m\u001b[0;34m\u001b[0m\u001b[0m\n\u001b[1;32m     12\u001b[0m \u001b[0mprint\u001b[0m\u001b[0;34m(\u001b[0m\u001b[0mcluster\u001b[0m \u001b[0;34m+\u001b[0m \u001b[0;34m\" done\"\u001b[0m\u001b[0;34m)\u001b[0m\u001b[0;34m\u001b[0m\u001b[0;34m\u001b[0m\u001b[0m\n",
      "\u001b[0;32m~/.conda/envs/cyclum/lib/python3.7/site-packages/arboreto/algo.py\u001b[0m in \u001b[0;36mgrnboost2\u001b[0;34m(expression_data, gene_names, tf_names, client_or_address, early_stop_window_length, limit, seed, verbose)\u001b[0m\n\u001b[1;32m     39\u001b[0m     return diy(expression_data=expression_data, regressor_type='GBM', regressor_kwargs=SGBM_KWARGS,\n\u001b[1;32m     40\u001b[0m                \u001b[0mgene_names\u001b[0m\u001b[0;34m=\u001b[0m\u001b[0mgene_names\u001b[0m\u001b[0;34m,\u001b[0m \u001b[0mtf_names\u001b[0m\u001b[0;34m=\u001b[0m\u001b[0mtf_names\u001b[0m\u001b[0;34m,\u001b[0m \u001b[0mclient_or_address\u001b[0m\u001b[0;34m=\u001b[0m\u001b[0mclient_or_address\u001b[0m\u001b[0;34m,\u001b[0m\u001b[0;34m\u001b[0m\u001b[0;34m\u001b[0m\u001b[0m\n\u001b[0;32m---> 41\u001b[0;31m                early_stop_window_length=early_stop_window_length, limit=limit, seed=seed, verbose=verbose)\n\u001b[0m\u001b[1;32m     42\u001b[0m \u001b[0;34m\u001b[0m\u001b[0m\n\u001b[1;32m     43\u001b[0m \u001b[0;34m\u001b[0m\u001b[0m\n",
      "\u001b[0;32m~/.conda/envs/cyclum/lib/python3.7/site-packages/arboreto/algo.py\u001b[0m in \u001b[0;36mdiy\u001b[0;34m(expression_data, regressor_type, regressor_kwargs, gene_names, tf_names, client_or_address, early_stop_window_length, limit, seed, verbose)\u001b[0m\n\u001b[1;32m    137\u001b[0m \u001b[0;34m\u001b[0m\u001b[0m\n\u001b[1;32m    138\u001b[0m     \u001b[0;32mfinally\u001b[0m\u001b[0;34m:\u001b[0m\u001b[0;34m\u001b[0m\u001b[0;34m\u001b[0m\u001b[0m\n\u001b[0;32m--> 139\u001b[0;31m         \u001b[0mshutdown_callback\u001b[0m\u001b[0;34m(\u001b[0m\u001b[0mverbose\u001b[0m\u001b[0;34m)\u001b[0m\u001b[0;34m\u001b[0m\u001b[0;34m\u001b[0m\u001b[0m\n\u001b[0m\u001b[1;32m    140\u001b[0m \u001b[0;34m\u001b[0m\u001b[0m\n\u001b[1;32m    141\u001b[0m         \u001b[0;32mif\u001b[0m \u001b[0mverbose\u001b[0m\u001b[0;34m:\u001b[0m\u001b[0;34m\u001b[0m\u001b[0;34m\u001b[0m\u001b[0m\n",
      "\u001b[0;32m~/.conda/envs/cyclum/lib/python3.7/site-packages/arboreto/algo.py\u001b[0m in \u001b[0;36mclose_client_and_local_cluster\u001b[0;34m(verbose)\u001b[0m\n\u001b[1;32m    162\u001b[0m                 \u001b[0mprint\u001b[0m\u001b[0;34m(\u001b[0m\u001b[0;34m'shutting down client and local cluster'\u001b[0m\u001b[0;34m)\u001b[0m\u001b[0;34m\u001b[0m\u001b[0;34m\u001b[0m\u001b[0m\n\u001b[1;32m    163\u001b[0m \u001b[0;34m\u001b[0m\u001b[0m\n\u001b[0;32m--> 164\u001b[0;31m             \u001b[0mclient\u001b[0m\u001b[0;34m.\u001b[0m\u001b[0mclose\u001b[0m\u001b[0;34m(\u001b[0m\u001b[0;34m)\u001b[0m\u001b[0;34m\u001b[0m\u001b[0;34m\u001b[0m\u001b[0m\n\u001b[0m\u001b[1;32m    165\u001b[0m             \u001b[0mlocal_cluster\u001b[0m\u001b[0;34m.\u001b[0m\u001b[0mclose\u001b[0m\u001b[0;34m(\u001b[0m\u001b[0;34m)\u001b[0m\u001b[0;34m\u001b[0m\u001b[0;34m\u001b[0m\u001b[0m\n\u001b[1;32m    166\u001b[0m \u001b[0;34m\u001b[0m\u001b[0m\n",
      "\u001b[0;32m~/.conda/envs/cyclum/lib/python3.7/site-packages/distributed/client.py\u001b[0m in \u001b[0;36mclose\u001b[0;34m(self, timeout)\u001b[0m\n\u001b[1;32m   1579\u001b[0m                     \u001b[0mself\u001b[0m\u001b[0;34m.\u001b[0m\u001b[0msync\u001b[0m\u001b[0;34m(\u001b[0m\u001b[0m_\u001b[0m\u001b[0;34m)\u001b[0m\u001b[0;34m\u001b[0m\u001b[0;34m\u001b[0m\u001b[0m\n\u001b[1;32m   1580\u001b[0m \u001b[0;34m\u001b[0m\u001b[0m\n\u001b[0;32m-> 1581\u001b[0;31m         \u001b[0msync\u001b[0m\u001b[0;34m(\u001b[0m\u001b[0mself\u001b[0m\u001b[0;34m.\u001b[0m\u001b[0mloop\u001b[0m\u001b[0;34m,\u001b[0m \u001b[0mself\u001b[0m\u001b[0;34m.\u001b[0m\u001b[0m_close\u001b[0m\u001b[0;34m,\u001b[0m \u001b[0mfast\u001b[0m\u001b[0;34m=\u001b[0m\u001b[0;32mTrue\u001b[0m\u001b[0;34m,\u001b[0m \u001b[0mcallback_timeout\u001b[0m\u001b[0;34m=\u001b[0m\u001b[0mtimeout\u001b[0m\u001b[0;34m)\u001b[0m\u001b[0;34m\u001b[0m\u001b[0;34m\u001b[0m\u001b[0m\n\u001b[0m\u001b[1;32m   1582\u001b[0m \u001b[0;34m\u001b[0m\u001b[0m\n\u001b[1;32m   1583\u001b[0m         \u001b[0;32massert\u001b[0m \u001b[0mself\u001b[0m\u001b[0;34m.\u001b[0m\u001b[0mstatus\u001b[0m \u001b[0;34m==\u001b[0m \u001b[0;34m\"closed\"\u001b[0m\u001b[0;34m\u001b[0m\u001b[0;34m\u001b[0m\u001b[0m\n",
      "\u001b[0;32m~/.conda/envs/cyclum/lib/python3.7/site-packages/distributed/utils.py\u001b[0m in \u001b[0;36msync\u001b[0;34m(loop, func, callback_timeout, *args, **kwargs)\u001b[0m\n\u001b[1;32m    367\u001b[0m     \u001b[0;32mif\u001b[0m \u001b[0mcallback_timeout\u001b[0m \u001b[0;32mis\u001b[0m \u001b[0;32mnot\u001b[0m \u001b[0;32mNone\u001b[0m\u001b[0;34m:\u001b[0m\u001b[0;34m\u001b[0m\u001b[0;34m\u001b[0m\u001b[0m\n\u001b[1;32m    368\u001b[0m         \u001b[0;32mif\u001b[0m \u001b[0;32mnot\u001b[0m \u001b[0mwait\u001b[0m\u001b[0;34m(\u001b[0m\u001b[0mcallback_timeout\u001b[0m\u001b[0;34m)\u001b[0m\u001b[0;34m:\u001b[0m\u001b[0;34m\u001b[0m\u001b[0;34m\u001b[0m\u001b[0m\n\u001b[0;32m--> 369\u001b[0;31m             \u001b[0;32mraise\u001b[0m \u001b[0mTimeoutError\u001b[0m\u001b[0;34m(\u001b[0m\u001b[0;34mf\"timed out after {callback_timeout} s.\"\u001b[0m\u001b[0;34m)\u001b[0m\u001b[0;34m\u001b[0m\u001b[0;34m\u001b[0m\u001b[0m\n\u001b[0m\u001b[1;32m    370\u001b[0m     \u001b[0;32melse\u001b[0m\u001b[0;34m:\u001b[0m\u001b[0;34m\u001b[0m\u001b[0;34m\u001b[0m\u001b[0m\n\u001b[1;32m    371\u001b[0m         \u001b[0;32mwhile\u001b[0m \u001b[0;32mnot\u001b[0m \u001b[0me\u001b[0m\u001b[0;34m.\u001b[0m\u001b[0mis_set\u001b[0m\u001b[0;34m(\u001b[0m\u001b[0;34m)\u001b[0m\u001b[0;34m:\u001b[0m\u001b[0;34m\u001b[0m\u001b[0;34m\u001b[0m\u001b[0m\n",
      "\u001b[0;31mTimeoutError\u001b[0m: timed out after 60 s."
     ]
    }
   ],
   "source": [
    "cluster= 'SCN Neurons'\n",
    "df = pd.read_csv(\"Mus_musculus_TF.txt\", '\\t')\n",
    "adata = sc.read(\"SCN/\" + cluster+\"_raw_cyclum\" +\".h5ad\")\n",
    "ge = np.array(adata.X)\n",
    "genes = adata.var_names\n",
    "list_of_tf = list(df['Symbol'].values)\n",
    "list_of_tf = [x for x in list_of_tf if x in adata.var_names]\n",
    "network = grnboost2(expression_data=ge,\n",
    "                            gene_names=genes,  # specify the gene_names\n",
    "                            tf_names=list_of_tf)\n",
    "network.to_csv('SCN/' + cluster + '_netowrk_raw_cyclum_tf.csv')  \n",
    "print(cluster + \" done\")\n"
   ]
  },
  {
   "cell_type": "code",
   "execution_count": 30,
   "id": "f10540fc",
   "metadata": {},
   "outputs": [],
   "source": [
    "cluster = 'Ependymal'\n",
    "network_en = pd.read_csv('SCN/' + cluster + '_netowrk_en_cyclum_tf.csv')  \n",
    "network_raw = pd.read_csv('SCN/' + cluster + '_netowrk_raw_cyclum_tf.csv')  "
   ]
  },
  {
   "cell_type": "code",
   "execution_count": 31,
   "id": "b9b2828d",
   "metadata": {},
   "outputs": [
    {
     "name": "stdout",
     "output_type": "stream",
     "text": [
      "Kif21a enhancement: \n",
      "274988    1.067041\n",
      "Name: importance, dtype: float64\n",
      "Ahsa2 enhancement: \n",
      "338190    0.598849\n",
      "Name: importance, dtype: float64\n",
      "Hsp90ab1 enhancement: \n",
      "514351    0.132552\n",
      "Name: importance, dtype: float64\n",
      "Mt1 enhancement: \n",
      "636366    0.002736\n",
      "Name: importance, dtype: float64\n",
      "Kif21a raw: \n",
      "0\n",
      "Ahsa2 raw: \n",
      "0\n",
      "Hsp90ab1 raw: \n",
      "0\n",
      "Mt1 raw: \n",
      "693927    0.226035\n",
      "Name: importance, dtype: float64\n"
     ]
    }
   ],
   "source": [
    "calculate_tf_scores(network_en=network_en ,network_raw=network_raw, tf='Rorc', target_list=['Kif21a', 'Ahsa2', 'Hsp90ab1','Mt1'])"
   ]
  },
  {
   "cell_type": "code",
   "execution_count": 33,
   "id": "535e3cfd",
   "metadata": {},
   "outputs": [],
   "source": [
    "cluster = 'Ependymal'\n",
    "adata_raw = sc.read(\"SCN/\" + cluster+\"_raw_cyclum\" +\".h5ad\")\n",
    "adata_en = sc.read(\"SCN/\" + cluster+\"_en_cyclum\" +\".h5ad\")\n"
   ]
  },
  {
   "cell_type": "code",
   "execution_count": 36,
   "id": "03bb430f",
   "metadata": {},
   "outputs": [
    {
     "data": {
      "text/plain": [
       "[<matplotlib.lines.Line2D at 0x7f77f1174d50>]"
      ]
     },
     "execution_count": 36,
     "metadata": {},
     "output_type": "execute_result"
    },
    {
     "data": {
      "image/png": "[encoded data removed]",
      "text/plain": [
       "<Figure size 432x288 with 1 Axes>"
      ]
     },
     "metadata": {
      "needs_background": "light"
     },
     "output_type": "display_data"
    }
   ],
   "source": [
    "plt.plot(adata_raw[:,'Ahsa2'].X)"
   ]
  },
  {
   "cell_type": "code",
   "execution_count": 37,
   "id": "0c4b69c7",
   "metadata": {},
   "outputs": [
    {
     "data": {
      "text/plain": [
       "[<matplotlib.lines.Line2D at 0x7f781efd8550>]"
      ]
     },
     "execution_count": 37,
     "metadata": {},
     "output_type": "execute_result"
    },
    {
     "data": {
      "image/png": "[encoded data removed]",
      "text/plain": [
       "<Figure size 432x288 with 1 Axes>"
      ]
     },
     "metadata": {
      "needs_background": "light"
     },
     "output_type": "display_data"
    }
   ],
   "source": [
    "plt.plot(adata_en[:,'Ahsa2'].X)"
   ]
  },
  {
   "cell_type": "code",
   "execution_count": null,
   "id": "7668f438",
   "metadata": {},
   "outputs": [],
   "source": []
  }
 ],
 "metadata": {
  "kernelspec": {
   "display_name": "Python 3 (ipykernel)",
   "language": "python",
   "name": "python3"
  },
  "language_info": {
   "codemirror_mode": {
    "name": "ipython",
    "version": 3
   },
   "file_extension": ".py",
   "mimetype": "text/x-python",
   "name": "python",
   "nbconvert_exporter": "python",
   "pygments_lexer": "ipython3",
   "version": "3.7.11"
  }
 },
 "nbformat": 4,
 "nbformat_minor": 5
}
